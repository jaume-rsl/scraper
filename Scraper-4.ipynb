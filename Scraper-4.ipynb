{
 "cells": [
  {
   "cell_type": "code",
   "execution_count": null,
   "id": "27a3ca3e-474c-40ce-9823-b72b83af9aaf",
   "metadata": {},
   "outputs": [],
   "source": [
    "import pandas as pd\n",
    "import numpy as np\n",
    "import tabula\n",
    "import math\n",
    "import os\n",
    "from datetime import date"
   ]
  },
  {
   "cell_type": "code",
   "execution_count": null,
   "id": "0b2f279b-670c-4135-ac0e-09eee2e1e5cf",
   "metadata": {},
   "outputs": [],
   "source": [
    "class VacsTable:\n",
    "    \"\"\"\n",
    "    VacsTable class defines a vacants table and methods to clean that table\n",
    "    \"\"\"\n",
    "    self.types = ['common',    #list of vacants tables admitted. COMMON are the \n",
    "             np.nan]\n",
    "    def __init__(self, df):\n",
    "        self.get_type()        #call get_type() method at instantiation moment\n",
    "\n",
    "\n",
    "    def get_type(self):      #method to determine the type of vacants table at hand\n",
    "        if np.logical_and(df.shape[0] == 2, np.logical_and(df.shape[1] >= 14, df.shape[1] <= 16)):\n",
    "            self.type = 'common'        #most COMMON tables have a (2, 14-16) shape\n",
    "            assert self.type in self.types\n",
    "            \n",
    "        else:\n",
    "            pass\n",
    "    \n",
    "    def extract_t1(self):        #method to extract vacants in the type 1 table\n",
    "        pass\n",
    "    \n",
    "    def extract_t2(self):        #method to extract vacants in the type x table\n",
    "        pass\n",
    "    \n",
    "    def extract_tx(self):        #method to extract vacants in the type x table\n",
    "        pass"
   ]
  },
  {
   "cell_type": "code",
   "execution_count": null,
   "id": "96e1527f-5ad7-44f8-81c6-5d7238c51fae",
   "metadata": {},
   "outputs": [],
   "source": []
  }
 ],
 "metadata": {
  "kernelspec": {
   "display_name": "Python 3 (ipykernel)",
   "language": "python",
   "name": "python3"
  },
  "language_info": {
   "codemirror_mode": {
    "name": "ipython",
    "version": 3
   },
   "file_extension": ".py",
   "mimetype": "text/x-python",
   "name": "python",
   "nbconvert_exporter": "python",
   "pygments_lexer": "ipython3",
   "version": "3.10.0"
  }
 },
 "nbformat": 4,
 "nbformat_minor": 5
}
