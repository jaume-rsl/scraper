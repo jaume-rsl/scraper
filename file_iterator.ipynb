{
 "cells": [
  {
   "cell_type": "code",
   "execution_count": 1,
   "id": "97a19dcc-cff3-4fc6-8983-95315bd0d0c0",
   "metadata": {},
   "outputs": [],
   "source": [
    "import os"
   ]
  },
  {
   "cell_type": "code",
   "execution_count": 2,
   "id": "8038ed53-8ef8-4bfe-8dd8-0bb5945ef612",
   "metadata": {},
   "outputs": [],
   "source": [
    "docs_dir = 'D:/jaume/Datasets/BOD/'\n",
    "pkld_dir = 'D:/jaume/Jupyter Notebooks/Vacantes Scraper/ScrapedData/'"
   ]
  },
  {
   "cell_type": "code",
   "execution_count": 3,
   "id": "52d44b6f-dec9-4682-b3a2-50d592500d63",
   "metadata": {},
   "outputs": [
    {
     "data": {
      "text/plain": [
       "[<DirEntry 'BOD_20210324_57_vacantes_LD.pdf'>,\n",
       " <DirEntry 'BOD_20210326_59_vacantes_PA.pdf'>,\n",
       " <DirEntry 'BOD_20210428_81_destinos_LD.pdf'>,\n",
       " <DirEntry 'BOD_20210430_83_destinos_CM.pdf'>,\n",
       " <DirEntry 'BOD_20210504_85_destinos_PA.pdf'>,\n",
       " <DirEntry 'BOD_20211103_214 - Vac EXT.pdf'>,\n",
       " <DirEntry 'BOD_20211213_240 - Vac EXT.pdf'>,\n",
       " <DirEntry 'BOD_20211228_251 - Vac EXT.pdf'>,\n",
       " <DirEntry 'BOD_20220111_6 - Vac LD.pdf'>,\n",
       " <DirEntry 'BOD_20220125_16 - Vac Ext LD.pdf'>,\n",
       " <DirEntry 'BOD_20220215_31 - Destinos CC.pdf'>,\n",
       " <DirEntry 'BOD_20220223_37 - Destinos GR.pdf'>,\n",
       " <DirEntry 'BOD_20220303_43 - Destinos OC y ET Vacantes CC.pdf'>,\n",
       " <DirEntry 'BOD_20220307_45 - Vacantes OI.pdf'>,\n",
       " <DirEntry 'BOD_20220309_47 - Destinos OC Vacantes EA.pdf'>]"
      ]
     },
     "execution_count": 3,
     "metadata": {},
     "output_type": "execute_result"
    }
   ],
   "source": [
    "docs_list = []    #lista de documentos en la carpeta de entrada\n",
    "pkld_list = []    #lista de documentos ya procesados y transformados a pkl\n",
    "proc_docs = []    #lista de documentos aún por procesar\n",
    "\n",
    "# iterate over files in that directory\n",
    "for filename in os.scandir(docs_dir):\n",
    "    if filename.is_file():\n",
    "        docs_list.append(filename.name.split('_')[1])\n",
    "        \n",
    "# iterate over files in that directory\n",
    "for filename in os.scandir(pkld_dir):\n",
    "    if filename.is_file():\n",
    "        pkld_list.append(filename.name.split('_')[0])\n",
    "\n",
    "#seriales de documentos a procesar\n",
    "pending_list = [doc for doc in docs_list if doc not in pkld_list]\n",
    "\n",
    "# list of files to porcess\n",
    "for filename in os.scandir(docs_dir):\n",
    "    if filename.name.split('_')[1] in pending_list:\n",
    "        proc_docs.append(filename)\n",
    "        \n",
    "proc_docs"
   ]
  },
  {
   "cell_type": "code",
   "execution_count": 4,
   "id": "03040161-0093-4e73-89d2-6657667a4444",
   "metadata": {},
   "outputs": [
    {
     "data": {
      "text/plain": [
       "['20210325']"
      ]
     },
     "execution_count": 4,
     "metadata": {},
     "output_type": "execute_result"
    }
   ],
   "source": [
    "pkld_list"
   ]
  },
  {
   "cell_type": "code",
   "execution_count": null,
   "id": "fb9ade71-4329-4415-badd-c6c218d5f958",
   "metadata": {},
   "outputs": [],
   "source": []
  }
 ],
 "metadata": {
  "kernelspec": {
   "display_name": "Python 3 (ipykernel)",
   "language": "python",
   "name": "python3"
  },
  "language_info": {
   "codemirror_mode": {
    "name": "ipython",
    "version": 3
   },
   "file_extension": ".py",
   "mimetype": "text/x-python",
   "name": "python",
   "nbconvert_exporter": "python",
   "pygments_lexer": "ipython3",
   "version": "3.10.0"
  }
 },
 "nbformat": 4,
 "nbformat_minor": 5
}
