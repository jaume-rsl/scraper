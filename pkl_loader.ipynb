{
 "cells": [
  {
   "cell_type": "code",
   "execution_count": 28,
   "id": "61f5f924-6117-4c58-9003-12376328a0d6",
   "metadata": {},
   "outputs": [],
   "source": [
    "import pandas as pd\n",
    "import numpy as np\n",
    "import os\n",
    "from datetime import datetime"
   ]
  },
  {
   "cell_type": "code",
   "execution_count": 35,
   "id": "867c262c-aa79-4694-8ce2-935d0b27f407",
   "metadata": {},
   "outputs": [],
   "source": [
    "pkld_dir = 'D:/jaume/Jupyter Notebooks/Vacantes Scraper/ScrapedData2/'\n",
    "\n",
    "df_list = []\n",
    "\n",
    "for filename in os.scandir(pkld_dir):\n",
    "    if filename.is_file():\n",
    "        data = pd.read_pickle(filename)\n",
    "        df_list.append(data)\n",
    "        \n",
    "df = pd.concat(df_list).reset_index(drop = True)"
   ]
  },
  {
   "cell_type": "code",
   "execution_count": 36,
   "id": "78836d4e-0b61-4d1a-affb-95b362992e8d",
   "metadata": {},
   "outputs": [
    {
     "data": {
      "text/plain": [
       "(1849, 20)"
      ]
     },
     "execution_count": 36,
     "metadata": {},
     "output_type": "execute_result"
    }
   ],
   "source": [
    "df.shape"
   ]
  },
  {
   "cell_type": "code",
   "execution_count": 37,
   "id": "ff939380-8f46-4374-aab4-76e84c4e54d0",
   "metadata": {},
   "outputs": [],
   "source": [
    "df.to_csv('vac_2.csv')"
   ]
  }
 ],
 "metadata": {
  "kernelspec": {
   "display_name": "Python 3 (ipykernel)",
   "language": "python",
   "name": "python3"
  },
  "language_info": {
   "codemirror_mode": {
    "name": "ipython",
    "version": 3
   },
   "file_extension": ".py",
   "mimetype": "text/x-python",
   "name": "python",
   "nbconvert_exporter": "python",
   "pygments_lexer": "ipython3",
   "version": "3.10.0"
  }
 },
 "nbformat": 4,
 "nbformat_minor": 5
}
