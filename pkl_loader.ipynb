{
 "cells": [
  {
   "cell_type": "code",
   "execution_count": 13,
   "id": "61f5f924-6117-4c58-9003-12376328a0d6",
   "metadata": {},
   "outputs": [],
   "source": [
    "import pandas as pd\n",
    "import numpy as np\n",
    "import os"
   ]
  },
  {
   "cell_type": "code",
   "execution_count": 14,
   "id": "867c262c-aa79-4694-8ce2-935d0b27f407",
   "metadata": {},
   "outputs": [],
   "source": [
    "pkld_dir = 'D:/jaume/Jupyter Notebooks/Vacantes Scraper/ScrapedData2/'\n",
    "\n",
    "df_list = []\n",
    "\n",
    "for filename in os.scandir(pkld_dir):\n",
    "    if filename.is_file():\n",
    "        df_list.append(pd.read_pickle(filename))\n",
    "        \n",
    "df = pd.concat(df_list).reset_index(drop = True)"
   ]
  },
  {
   "cell_type": "code",
   "execution_count": 15,
   "id": "78836d4e-0b61-4d1a-affb-95b362992e8d",
   "metadata": {},
   "outputs": [
    {
     "data": {
      "text/plain": [
       "(851, 15)"
      ]
     },
     "execution_count": 15,
     "metadata": {},
     "output_type": "execute_result"
    }
   ],
   "source": [
    "df.shape"
   ]
  },
  {
   "cell_type": "code",
   "execution_count": 17,
   "id": "ff939380-8f46-4374-aab4-76e84c4e54d0",
   "metadata": {},
   "outputs": [],
   "source": [
    "df.to_csv('vac_2.csv')"
   ]
  },
  {
   "cell_type": "code",
   "execution_count": null,
   "id": "61ed44b4-973e-4045-865d-96c641afd634",
   "metadata": {},
   "outputs": [],
   "source": []
  }
 ],
 "metadata": {
  "kernelspec": {
   "display_name": "Python 3 (ipykernel)",
   "language": "python",
   "name": "python3"
  },
  "language_info": {
   "codemirror_mode": {
    "name": "ipython",
    "version": 3
   },
   "file_extension": ".py",
   "mimetype": "text/x-python",
   "name": "python",
   "nbconvert_exporter": "python",
   "pygments_lexer": "ipython3",
   "version": "3.10.0"
  }
 },
 "nbformat": 4,
 "nbformat_minor": 5
}
