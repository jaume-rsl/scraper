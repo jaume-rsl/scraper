{
 "cells": [
  {
   "cell_type": "code",
   "execution_count": 87,
   "id": "f805a4dd-a8e9-4721-9574-ea569df9a919",
   "metadata": {},
   "outputs": [],
   "source": [
    "import pandas as pd\n",
    "import numpy as np\n",
    "import tabula"
   ]
  },
  {
   "cell_type": "code",
   "execution_count": 3,
   "id": "2b60f79f-f5a2-4821-8a9d-eeaf6fdd9060",
   "metadata": {},
   "outputs": [
    {
     "name": "stderr",
     "output_type": "stream",
     "text": [
      "Got stderr: mar. 09, 2022 8:35:40 P. M. org.apache.pdfbox.contentstream.PDFStreamEngine operatorException\n",
      "GRAVE: Cannot read JPEG2000 image: Java Advanced Imaging (JAI) Image I/O Tools are not installed\n",
      "\n"
     ]
    }
   ],
   "source": [
    "file_pdf = 'D:\\jaume\\Datasets\\BOD\\BOD_20210325_58_vacantes_CM.pdf'\n",
    "read_pdf = tabula.read_pdf(file_pdf, pages = 24)"
   ]
  },
  {
   "cell_type": "code",
   "execution_count": 4,
   "id": "16239c67-fc1f-4a5b-8350-2a8979993ee3",
   "metadata": {},
   "outputs": [
    {
     "data": {
      "text/html": [
       "<div>\n",
       "<style scoped>\n",
       "    .dataframe tbody tr th:only-of-type {\n",
       "        vertical-align: middle;\n",
       "    }\n",
       "\n",
       "    .dataframe tbody tr th {\n",
       "        vertical-align: top;\n",
       "    }\n",
       "\n",
       "    .dataframe thead th {\n",
       "        text-align: right;\n",
       "    }\n",
       "</style>\n",
       "<table border=\"1\" class=\"dataframe\">\n",
       "  <thead>\n",
       "    <tr style=\"text-align: right;\">\n",
       "      <th></th>\n",
       "      <th>NUM.\\rVAC.</th>\n",
       "      <th>DIRECCIÓN GENERAL, ORGANISMO, CENTRO, UNIDAD\\rLOCALIDAD</th>\n",
       "      <th>CODIGO\\rIDENTIF.\\rUNIDAD</th>\n",
       "      <th>CODIGO\\rPUESTO\\rTRABAJO</th>\n",
       "      <th>CLAS.</th>\n",
       "      <th>EMPLEO</th>\n",
       "      <th>ESP. FUNDAMENTAL</th>\n",
       "      <th>TITUL. / SEG. ESP. EXIGIBLES</th>\n",
       "      <th>TIEMPOS</th>\n",
       "      <th>FECHA\\rCOBERTURA</th>\n",
       "      <th>CSCE\\rEUROS/MES</th>\n",
       "      <th>TIPO\\rCM</th>\n",
       "      <th>OBSERVACIONES</th>\n",
       "      <th>Unnamed: 0</th>\n",
       "      <th>Unnamed: 1</th>\n",
       "    </tr>\n",
       "  </thead>\n",
       "  <tbody>\n",
       "    <tr>\n",
       "      <th>0</th>\n",
       "      <td>NaN</td>\n",
       "      <td>NaN</td>\n",
       "      <td>NaN</td>\n",
       "      <td>AS</td>\n",
       "      <td>TA</td>\n",
       "      <td>ESP. COMPLEMENTARIA</td>\n",
       "      <td>TITUL. / SEG. ESP. VALORABLES</td>\n",
       "      <td>MAX</td>\n",
       "      <td>MIN</td>\n",
       "      <td>NaN</td>\n",
       "      <td>NaN</td>\n",
       "      <td>NaN</td>\n",
       "      <td>NaN</td>\n",
       "      <td>NaN</td>\n",
       "      <td>NaN</td>\n",
       "    </tr>\n",
       "    <tr>\n",
       "      <th>1</th>\n",
       "      <td>03800\\r03801\\r03802\\r03803\\r03804\\r03805\\r0380...</td>\n",
       "      <td>BATALLON DE HELICOPTEROS DE EMERGENCIAS II (BE...</td>\n",
       "      <td>50075516\\r50045588\\r50075516\\r50030082\\r500389...</td>\n",
       "      <td>5SA3E/003\\r5SA3E/002\\r5SA3E/004\\r5SA3E/003\\r5S...</td>\n",
       "      <td>CM\\rCM\\rCM\\rCM\\rCM\\rCM\\rCM\\rCM\\rCM\\rCM\\rCM\\rCM</td>\n",
       "      <td>C\\rC\\rC\\rC\\rC\\rC\\rC\\rC\\rC\\rC\\rC\\rC</td>\n",
       "      <td>STTE a BG\\rSTTE a BG\\rSTTE a BG\\rSTTE a BG\\rST...</td>\n",
       "      <td>I.LIG\\rI.LIG\\rARTC\\rI.LIG\\rI.LIG\\rI.LIG</td>\n",
       "      <td>HC:I, HR:I\\rHP:E\\rHP:E\\rHP:E\\rTM:E\\rTM:E\\rTM:E...</td>\n",
       "      <td>10\\r10\\r10\\r10\\r10</td>\n",
       "      <td>3\\r3\\r3\\r3</td>\n",
       "      <td>NaN</td>\n",
       "      <td>304,34\\r374,87\\r374,87\\r374,87\\r374,87\\r374,87...</td>\n",
       "      <td>GM18\\rGM18\\rGM18\\rGM18\\rGM18\\rGM18\\rGM26\\rGM26...</td>\n",
       "      <td>546,656,959\\r546,656,959\\r546,656,959\\r546,656...</td>\n",
       "    </tr>\n",
       "  </tbody>\n",
       "</table>\n",
       "</div>"
      ],
      "text/plain": [
       "                                          NUM.\\rVAC.  \\\n",
       "0                                                NaN   \n",
       "1  03800\\r03801\\r03802\\r03803\\r03804\\r03805\\r0380...   \n",
       "\n",
       "  DIRECCIÓN GENERAL, ORGANISMO, CENTRO, UNIDAD\\rLOCALIDAD  \\\n",
       "0                                                NaN        \n",
       "1  BATALLON DE HELICOPTEROS DE EMERGENCIAS II (BE...        \n",
       "\n",
       "                            CODIGO\\rIDENTIF.\\rUNIDAD  \\\n",
       "0                                                NaN   \n",
       "1  50075516\\r50045588\\r50075516\\r50030082\\r500389...   \n",
       "\n",
       "                             CODIGO\\rPUESTO\\rTRABAJO  \\\n",
       "0                                                 AS   \n",
       "1  5SA3E/003\\r5SA3E/002\\r5SA3E/004\\r5SA3E/003\\r5S...   \n",
       "\n",
       "                                            CLAS.  \\\n",
       "0                                              TA   \n",
       "1  CM\\rCM\\rCM\\rCM\\rCM\\rCM\\rCM\\rCM\\rCM\\rCM\\rCM\\rCM   \n",
       "\n",
       "                               EMPLEO  \\\n",
       "0                 ESP. COMPLEMENTARIA   \n",
       "1  C\\rC\\rC\\rC\\rC\\rC\\rC\\rC\\rC\\rC\\rC\\rC   \n",
       "\n",
       "                                    ESP. FUNDAMENTAL  \\\n",
       "0                      TITUL. / SEG. ESP. VALORABLES   \n",
       "1  STTE a BG\\rSTTE a BG\\rSTTE a BG\\rSTTE a BG\\rST...   \n",
       "\n",
       "              TITUL. / SEG. ESP. EXIGIBLES  \\\n",
       "0                                      MAX   \n",
       "1  I.LIG\\rI.LIG\\rARTC\\rI.LIG\\rI.LIG\\rI.LIG   \n",
       "\n",
       "                                             TIEMPOS    FECHA\\rCOBERTURA  \\\n",
       "0                                                MIN                 NaN   \n",
       "1  HC:I, HR:I\\rHP:E\\rHP:E\\rHP:E\\rTM:E\\rTM:E\\rTM:E...  10\\r10\\r10\\r10\\r10   \n",
       "\n",
       "  CSCE\\rEUROS/MES  TIPO\\rCM  \\\n",
       "0             NaN       NaN   \n",
       "1      3\\r3\\r3\\r3       NaN   \n",
       "\n",
       "                                       OBSERVACIONES  \\\n",
       "0                                                NaN   \n",
       "1  304,34\\r374,87\\r374,87\\r374,87\\r374,87\\r374,87...   \n",
       "\n",
       "                                          Unnamed: 0  \\\n",
       "0                                                NaN   \n",
       "1  GM18\\rGM18\\rGM18\\rGM18\\rGM18\\rGM18\\rGM26\\rGM26...   \n",
       "\n",
       "                                          Unnamed: 1  \n",
       "0                                                NaN  \n",
       "1  546,656,959\\r546,656,959\\r546,656,959\\r546,656...  "
      ]
     },
     "execution_count": 4,
     "metadata": {},
     "output_type": "execute_result"
    }
   ],
   "source": [
    "#Lee el primer dataframe (primera tabla) del PFD\n",
    "df = read_pdf[0]\n",
    "df"
   ]
  },
  {
   "cell_type": "code",
   "execution_count": 131,
   "id": "b8d5ed9d-7c16-40ac-bc96-1cd3b72e2768",
   "metadata": {},
   "outputs": [
    {
     "data": {
      "text/plain": [
       "12"
      ]
     },
     "execution_count": 131,
     "metadata": {},
     "output_type": "execute_result"
    }
   ],
   "source": [
    "n_vac = df.iloc[1,0]\\\n",
    "          .split('\\r')\n",
    "len(n_vac)"
   ]
  },
  {
   "cell_type": "code",
   "execution_count": 132,
   "id": "db2d520d-fdcf-4da5-ad2e-9d2967b46e18",
   "metadata": {},
   "outputs": [
    {
     "data": {
      "text/plain": [
       "12"
      ]
     },
     "execution_count": 132,
     "metadata": {},
     "output_type": "execute_result"
    }
   ],
   "source": [
    "uco = df.iloc[1, 1]\\\n",
    "        .split('\\r')\n",
    "uco = uco[0::2]\n",
    "len(uco)"
   ]
  },
  {
   "cell_type": "code",
   "execution_count": 133,
   "id": "1fba28ff-bd79-4372-80b3-bb46ac93e1ed",
   "metadata": {},
   "outputs": [
    {
     "data": {
      "text/plain": [
       "12"
      ]
     },
     "execution_count": 133,
     "metadata": {},
     "output_type": "execute_result"
    }
   ],
   "source": [
    "ciu = df.iloc[1, 2]\\\n",
    "        .split('\\r')\n",
    "len(ciu)"
   ]
  },
  {
   "cell_type": "code",
   "execution_count": 134,
   "id": "65251289-3364-4921-8022-8e68b664467d",
   "metadata": {},
   "outputs": [
    {
     "data": {
      "text/plain": [
       "12"
      ]
     },
     "execution_count": 134,
     "metadata": {},
     "output_type": "execute_result"
    }
   ],
   "source": [
    "pt = df.iloc[1, 3]\\\n",
    "       .split('\\r')\n",
    "len(pt)"
   ]
  },
  {
   "cell_type": "code",
   "execution_count": 135,
   "id": "f7aa171c-311a-474c-935a-5267a5516c7f",
   "metadata": {},
   "outputs": [
    {
     "data": {
      "text/plain": [
       "12"
      ]
     },
     "execution_count": 135,
     "metadata": {},
     "output_type": "execute_result"
    }
   ],
   "source": [
    "clas = df.iloc[1, 4]\\\n",
    "         .split('\\r')\n",
    "len(clas)"
   ]
  },
  {
   "cell_type": "code",
   "execution_count": 136,
   "id": "6d3dd27a-fed6-461a-943d-558927a62600",
   "metadata": {},
   "outputs": [
    {
     "data": {
      "text/plain": [
       "12"
      ]
     },
     "execution_count": 136,
     "metadata": {},
     "output_type": "execute_result"
    }
   ],
   "source": [
    "ta = df.iloc[1, 5]\\\n",
    "         .split('\\r')\n",
    "len(ta)"
   ]
  },
  {
   "cell_type": "code",
   "execution_count": 137,
   "id": "518c42f3-7f2d-4008-9559-7ba077f711a5",
   "metadata": {},
   "outputs": [
    {
     "data": {
      "text/plain": [
       "12"
      ]
     },
     "execution_count": 137,
     "metadata": {},
     "output_type": "execute_result"
    }
   ],
   "source": [
    "empleo = df.iloc[1, 6]\\\n",
    "           .split('\\r')\n",
    "len(empleo)"
   ]
  },
  {
   "cell_type": "code",
   "execution_count": 138,
   "id": "31d8321e-6a52-43f6-b9ce-0e170054586d",
   "metadata": {},
   "outputs": [
    {
     "data": {
      "text/plain": [
       "6"
      ]
     },
     "execution_count": 138,
     "metadata": {},
     "output_type": "execute_result"
    }
   ],
   "source": [
    "efun = df.iloc[1, 7]\\\n",
    "         .split('\\r')\n",
    "len(efun)"
   ]
  },
  {
   "cell_type": "code",
   "execution_count": 139,
   "id": "04104e2d-095e-4eaa-8b1a-591c62742d69",
   "metadata": {},
   "outputs": [],
   "source": [
    "# Comprobación de errores (no todas las vacantes tienen efun, cursos o t_max/t_min)\n",
    "errors = []\n",
    "if len(efun) == len(n_vac):\n",
    "    pass\n",
    "else:\n",
    "    errors.append('EFUN no está definida en todas las vacantes')\n",
    "    unique_efun = set(efun)    #devuelve valores únicos de EFUN en un set (de valores únicos)\n",
    "    efun_value = list(unique_efun)\n",
    "    efun_value.append('NaN')            #lista de posibles EFUN\n",
    "    efun = [efun_value] * len(n_vac)    #lista de longiutud igual a nº de vacantes con las posibles EFUN"
   ]
  },
  {
   "cell_type": "code",
   "execution_count": 140,
   "id": "09199fc3-3ee7-4dfe-9517-c936b2b43d02",
   "metadata": {},
   "outputs": [
    {
     "data": {
      "text/plain": [
       "[['I.LIG', 'ARTC', 'NaN'],\n",
       " ['I.LIG', 'ARTC', 'NaN'],\n",
       " ['I.LIG', 'ARTC', 'NaN'],\n",
       " ['I.LIG', 'ARTC', 'NaN'],\n",
       " ['I.LIG', 'ARTC', 'NaN'],\n",
       " ['I.LIG', 'ARTC', 'NaN'],\n",
       " ['I.LIG', 'ARTC', 'NaN'],\n",
       " ['I.LIG', 'ARTC', 'NaN'],\n",
       " ['I.LIG', 'ARTC', 'NaN'],\n",
       " ['I.LIG', 'ARTC', 'NaN'],\n",
       " ['I.LIG', 'ARTC', 'NaN'],\n",
       " ['I.LIG', 'ARTC', 'NaN']]"
      ]
     },
     "execution_count": 140,
     "metadata": {},
     "output_type": "execute_result"
    }
   ],
   "source": [
    "efun"
   ]
  },
  {
   "cell_type": "code",
   "execution_count": 141,
   "id": "104d4fe7-1d05-466c-8f15-b4ab653e14ab",
   "metadata": {},
   "outputs": [
    {
     "data": {
      "text/plain": [
       "12"
      ]
     },
     "execution_count": 141,
     "metadata": {},
     "output_type": "execute_result"
    }
   ],
   "source": [
    "cursos = df.iloc[1, 8]\\\n",
    "           .split('\\r')\n",
    "len(cursos)"
   ]
  },
  {
   "cell_type": "code",
   "execution_count": 142,
   "id": "b08c4e51-ee81-4163-b224-9a0807f68108",
   "metadata": {},
   "outputs": [
    {
     "data": {
      "text/plain": [
       "5"
      ]
     },
     "execution_count": 142,
     "metadata": {},
     "output_type": "execute_result"
    }
   ],
   "source": [
    "t_max = df.iloc[1, 9]\\\n",
    "          .split('\\r')\n",
    "len(t_max)"
   ]
  },
  {
   "cell_type": "code",
   "execution_count": 143,
   "id": "27197454-061e-428b-a24f-111b2853b771",
   "metadata": {},
   "outputs": [],
   "source": [
    "if len(t_max) == len(n_vac):\n",
    "    pass\n",
    "else:\n",
    "    errors.append('T_MAX no definido en todas las vacantes. Ver opciones.')\n",
    "    tmax_value = list(unique_tmax)\n",
    "    tmax_value.append('NaN')\n",
    "    t_max = [tmax_value] * len(n_vac)"
   ]
  },
  {
   "cell_type": "code",
   "execution_count": 144,
   "id": "2a710a8a-ce0d-4d9f-945b-28f31dc477b2",
   "metadata": {},
   "outputs": [
    {
     "data": {
      "text/plain": [
       "[['10', 'NaN'],\n",
       " ['10', 'NaN'],\n",
       " ['10', 'NaN'],\n",
       " ['10', 'NaN'],\n",
       " ['10', 'NaN'],\n",
       " ['10', 'NaN'],\n",
       " ['10', 'NaN'],\n",
       " ['10', 'NaN'],\n",
       " ['10', 'NaN'],\n",
       " ['10', 'NaN'],\n",
       " ['10', 'NaN'],\n",
       " ['10', 'NaN']]"
      ]
     },
     "execution_count": 144,
     "metadata": {},
     "output_type": "execute_result"
    }
   ],
   "source": [
    "t_max"
   ]
  },
  {
   "cell_type": "code",
   "execution_count": 145,
   "id": "0a1459cf-52a3-447f-b106-5b76808ba741",
   "metadata": {},
   "outputs": [
    {
     "data": {
      "text/plain": [
       "4"
      ]
     },
     "execution_count": 145,
     "metadata": {},
     "output_type": "execute_result"
    }
   ],
   "source": [
    "t_min = df.iloc[1, 10]\\\n",
    "          .split('\\r')\n",
    "len(t_min)"
   ]
  },
  {
   "cell_type": "code",
   "execution_count": 146,
   "id": "633147a7-65a0-4e13-9fa7-d996b5ea9f3f",
   "metadata": {},
   "outputs": [],
   "source": [
    "if len(t_min) == len(n_vac):\n",
    "    pass\n",
    "else:\n",
    "    errors.append('T_MIN no definido en todas las vacantes. Ver opciones.')\n",
    "    unique_tmin = set(t_min)\n",
    "    tmin_value = list(unique_tmin)\n",
    "    tmin_value.append('NaN')\n",
    "    t_min = [tmin_value] * len(n_vac)"
   ]
  },
  {
   "cell_type": "code",
   "execution_count": 147,
   "id": "50e2dcb7-b7c8-40be-9ff3-090aa192ef74",
   "metadata": {},
   "outputs": [
    {
     "data": {
      "text/plain": [
       "[['3', 'NaN'],\n",
       " ['3', 'NaN'],\n",
       " ['3', 'NaN'],\n",
       " ['3', 'NaN'],\n",
       " ['3', 'NaN'],\n",
       " ['3', 'NaN'],\n",
       " ['3', 'NaN'],\n",
       " ['3', 'NaN'],\n",
       " ['3', 'NaN'],\n",
       " ['3', 'NaN'],\n",
       " ['3', 'NaN'],\n",
       " ['3', 'NaN']]"
      ]
     },
     "execution_count": 147,
     "metadata": {},
     "output_type": "execute_result"
    }
   ],
   "source": [
    "t_min"
   ]
  },
  {
   "cell_type": "code",
   "execution_count": 148,
   "id": "db1dd89c-dc04-49e4-ba50-9561d58f0167",
   "metadata": {},
   "outputs": [],
   "source": [
    "if np.isnan(df.iloc[1,11]):\n",
    "    fecha_cob = ['NaN'] * len(n_vac)\n",
    "else:\n",
    "    fecha_cob = df.iloc[1, 11]\\\n",
    "                  .split('\\r')        #Hay que testear el comportamiento con fechas en Fecha de Cobertura"
   ]
  },
  {
   "cell_type": "code",
   "execution_count": 149,
   "id": "bd3b98f7-5063-4717-a0e1-b91dca1b6f8a",
   "metadata": {},
   "outputs": [],
   "source": [
    "if len(fecha_cob) == len(n_vac):\n",
    "    pass\n",
    "else:\n",
    "    errors.append('Fecha de Cobertura no definida en todas las vacantes. Ver opciones.')\n",
    "    unique_fechacob = set(fecha_cob)\n",
    "    fechacob_value = list(unique_fechacob)\n",
    "    fechacob_value.append('NaN')                 #lista de valores posibles para fecha de cobertura\n",
    "    fecha_cob = [fechacob_value] * len(n_vac)"
   ]
  },
  {
   "cell_type": "code",
   "execution_count": 150,
   "id": "ad2bee75-e039-42db-a87f-1aa7731086b6",
   "metadata": {},
   "outputs": [
    {
     "data": {
      "text/plain": [
       "12"
      ]
     },
     "execution_count": 150,
     "metadata": {},
     "output_type": "execute_result"
    }
   ],
   "source": [
    "csce = df.iloc[1, 12]\\\n",
    "              .split('\\r')\n",
    "len(csce)"
   ]
  },
  {
   "cell_type": "code",
   "execution_count": 151,
   "id": "7ead4910-9cbf-46f0-87b0-aa1965fa9c22",
   "metadata": {},
   "outputs": [
    {
     "data": {
      "text/plain": [
       "12"
      ]
     },
     "execution_count": 151,
     "metadata": {},
     "output_type": "execute_result"
    }
   ],
   "source": [
    "cod_cm = df.iloc[1, 13]\\\n",
    "              .split('\\r')\n",
    "len(cod_cm)"
   ]
  },
  {
   "cell_type": "code",
   "execution_count": 152,
   "id": "0ffce733-d4b9-4e5d-94ff-30b3c3f74eab",
   "metadata": {},
   "outputs": [
    {
     "data": {
      "text/plain": [
       "12"
      ]
     },
     "execution_count": 152,
     "metadata": {},
     "output_type": "execute_result"
    }
   ],
   "source": [
    "obs = df.iloc[1, 14]\\\n",
    "        .split('\\r')\n",
    "len(obs)"
   ]
  },
  {
   "cell_type": "code",
   "execution_count": 157,
   "id": "44d0d80e-5462-487a-a419-27c501107798",
   "metadata": {},
   "outputs": [
    {
     "data": {
      "text/html": [
       "<div>\n",
       "<style scoped>\n",
       "    .dataframe tbody tr th:only-of-type {\n",
       "        vertical-align: middle;\n",
       "    }\n",
       "\n",
       "    .dataframe tbody tr th {\n",
       "        vertical-align: top;\n",
       "    }\n",
       "\n",
       "    .dataframe thead th {\n",
       "        text-align: right;\n",
       "    }\n",
       "</style>\n",
       "<table border=\"1\" class=\"dataframe\">\n",
       "  <thead>\n",
       "    <tr style=\"text-align: right;\">\n",
       "      <th></th>\n",
       "      <th>n_vac</th>\n",
       "      <th>uco</th>\n",
       "      <th>ciu</th>\n",
       "      <th>pt</th>\n",
       "      <th>clas</th>\n",
       "      <th>ta</th>\n",
       "      <th>empleo</th>\n",
       "      <th>efun</th>\n",
       "      <th>cursos</th>\n",
       "      <th>t_max</th>\n",
       "      <th>t_min</th>\n",
       "      <th>fecha_cob</th>\n",
       "      <th>csce</th>\n",
       "      <th>cod_cm</th>\n",
       "      <th>obs</th>\n",
       "    </tr>\n",
       "  </thead>\n",
       "  <tbody>\n",
       "    <tr>\n",
       "      <th>0</th>\n",
       "      <td>03800</td>\n",
       "      <td>BATALLON DE HELICOPTEROS DE EMERGENCIAS II (BE...</td>\n",
       "      <td>50075516</td>\n",
       "      <td>5SA3E/003</td>\n",
       "      <td>CM</td>\n",
       "      <td>C</td>\n",
       "      <td>STTE a BG</td>\n",
       "      <td>[I.LIG, ARTC, NaN]</td>\n",
       "      <td>HC:I, HR:I</td>\n",
       "      <td>[10, NaN]</td>\n",
       "      <td>[3, NaN]</td>\n",
       "      <td>NaN</td>\n",
       "      <td>304,34</td>\n",
       "      <td>GM18</td>\n",
       "      <td>546,656,959</td>\n",
       "    </tr>\n",
       "    <tr>\n",
       "      <th>1</th>\n",
       "      <td>03801</td>\n",
       "      <td>BATALLON DE CG. DE LAS FAMET</td>\n",
       "      <td>50045588</td>\n",
       "      <td>5SA3E/002</td>\n",
       "      <td>CM</td>\n",
       "      <td>C</td>\n",
       "      <td>STTE a BG</td>\n",
       "      <td>[I.LIG, ARTC, NaN]</td>\n",
       "      <td>HP:E</td>\n",
       "      <td>[10, NaN]</td>\n",
       "      <td>[3, NaN]</td>\n",
       "      <td>NaN</td>\n",
       "      <td>374,87</td>\n",
       "      <td>GM18</td>\n",
       "      <td>546,656,959</td>\n",
       "    </tr>\n",
       "    <tr>\n",
       "      <th>2</th>\n",
       "      <td>03802</td>\n",
       "      <td>BATALLON DE HELICOPTEROS DE EMERGENCIAS II (BE...</td>\n",
       "      <td>50075516</td>\n",
       "      <td>5SA3E/004</td>\n",
       "      <td>CM</td>\n",
       "      <td>C</td>\n",
       "      <td>STTE a BG</td>\n",
       "      <td>[I.LIG, ARTC, NaN]</td>\n",
       "      <td>HP:E</td>\n",
       "      <td>[10, NaN]</td>\n",
       "      <td>[3, NaN]</td>\n",
       "      <td>NaN</td>\n",
       "      <td>374,87</td>\n",
       "      <td>GM18</td>\n",
       "      <td>546,656,959</td>\n",
       "    </tr>\n",
       "    <tr>\n",
       "      <th>3</th>\n",
       "      <td>03803</td>\n",
       "      <td>BATALLON DE HELICOPTEROS DE MANIOBRA VI</td>\n",
       "      <td>50030082</td>\n",
       "      <td>5SA3E/003</td>\n",
       "      <td>CM</td>\n",
       "      <td>C</td>\n",
       "      <td>STTE a BG</td>\n",
       "      <td>[I.LIG, ARTC, NaN]</td>\n",
       "      <td>HP:E</td>\n",
       "      <td>[10, NaN]</td>\n",
       "      <td>[3, NaN]</td>\n",
       "      <td>NaN</td>\n",
       "      <td>374,87</td>\n",
       "      <td>GM18</td>\n",
       "      <td>546,656,959</td>\n",
       "    </tr>\n",
       "    <tr>\n",
       "      <th>4</th>\n",
       "      <td>03804</td>\n",
       "      <td>RGTO. DE INF. «AMERICA» N.o 66 DE CAZADORES DE...</td>\n",
       "      <td>50038946</td>\n",
       "      <td>5SA19/002</td>\n",
       "      <td>CM</td>\n",
       "      <td>C</td>\n",
       "      <td>STTE</td>\n",
       "      <td>[I.LIG, ARTC, NaN]</td>\n",
       "      <td>TM:E</td>\n",
       "      <td>[10, NaN]</td>\n",
       "      <td>[3, NaN]</td>\n",
       "      <td>NaN</td>\n",
       "      <td>374,87</td>\n",
       "      <td>GM18</td>\n",
       "      <td>959</td>\n",
       "    </tr>\n",
       "    <tr>\n",
       "      <th>5</th>\n",
       "      <td>03805</td>\n",
       "      <td>CUARTEL GENERAL DEL MANDO DE TROPAS DE MONTAÑA</td>\n",
       "      <td>50083231</td>\n",
       "      <td>5SA28/001</td>\n",
       "      <td>CM</td>\n",
       "      <td>C</td>\n",
       "      <td>STTE</td>\n",
       "      <td>[I.LIG, ARTC, NaN]</td>\n",
       "      <td>TM:E</td>\n",
       "      <td>[10, NaN]</td>\n",
       "      <td>[3, NaN]</td>\n",
       "      <td>NaN</td>\n",
       "      <td>374,87</td>\n",
       "      <td>GM18</td>\n",
       "      <td>656,959</td>\n",
       "    </tr>\n",
       "    <tr>\n",
       "      <th>6</th>\n",
       "      <td>03806</td>\n",
       "      <td>CUARTEL GENERAL DEL MANDO DE TROPAS DE MONTAÑA</td>\n",
       "      <td>50083231</td>\n",
       "      <td>5SA51/001</td>\n",
       "      <td>CM</td>\n",
       "      <td>C</td>\n",
       "      <td>BG</td>\n",
       "      <td>[I.LIG, ARTC, NaN]</td>\n",
       "      <td>TM:E</td>\n",
       "      <td>[10, NaN]</td>\n",
       "      <td>[3, NaN]</td>\n",
       "      <td>NaN</td>\n",
       "      <td>338,86</td>\n",
       "      <td>GM26</td>\n",
       "      <td>656,959</td>\n",
       "    </tr>\n",
       "    <tr>\n",
       "      <th>7</th>\n",
       "      <td>03807</td>\n",
       "      <td>CUARTEL GENERAL DEL MANDO DE TROPAS DE MONTAÑA</td>\n",
       "      <td>50083231</td>\n",
       "      <td>5SA50/003</td>\n",
       "      <td>CM</td>\n",
       "      <td>C</td>\n",
       "      <td>BG</td>\n",
       "      <td>[I.LIG, ARTC, NaN]</td>\n",
       "      <td>TM:E</td>\n",
       "      <td>[10, NaN]</td>\n",
       "      <td>[3, NaN]</td>\n",
       "      <td>NaN</td>\n",
       "      <td>338,86</td>\n",
       "      <td>GM26</td>\n",
       "      <td>656,959</td>\n",
       "    </tr>\n",
       "    <tr>\n",
       "      <th>8</th>\n",
       "      <td>03808</td>\n",
       "      <td>GRUPO DE ARTILLERIA DE CAMPAÑA VI</td>\n",
       "      <td>50091180</td>\n",
       "      <td>5SA23/002</td>\n",
       "      <td>CM</td>\n",
       "      <td>C</td>\n",
       "      <td>STTE</td>\n",
       "      <td>[I.LIG, ARTC, NaN]</td>\n",
       "      <td>PA:E</td>\n",
       "      <td>[10, NaN]</td>\n",
       "      <td>[3, NaN]</td>\n",
       "      <td>NaN</td>\n",
       "      <td>374,87</td>\n",
       "      <td>GM18</td>\n",
       "      <td>959,976</td>\n",
       "    </tr>\n",
       "    <tr>\n",
       "      <th>9</th>\n",
       "      <td>03809</td>\n",
       "      <td>REGIMIENTO DE INFANTERIA «NAPOLES» N.o 4 DE PA...</td>\n",
       "      <td>50041489</td>\n",
       "      <td>5SA51/004</td>\n",
       "      <td>CM</td>\n",
       "      <td>C</td>\n",
       "      <td>BG</td>\n",
       "      <td>[I.LIG, ARTC, NaN]</td>\n",
       "      <td>PA:E</td>\n",
       "      <td>[10, NaN]</td>\n",
       "      <td>[3, NaN]</td>\n",
       "      <td>NaN</td>\n",
       "      <td>304,34</td>\n",
       "      <td>GM26</td>\n",
       "      <td>959,976</td>\n",
       "    </tr>\n",
       "    <tr>\n",
       "      <th>10</th>\n",
       "      <td>03810</td>\n",
       "      <td>REGIMIENTO DE INFANTERIA «NAPOLES» N.o 4 DE PA...</td>\n",
       "      <td>50041489</td>\n",
       "      <td>5SA51/001</td>\n",
       "      <td>CM</td>\n",
       "      <td>C</td>\n",
       "      <td>BG</td>\n",
       "      <td>[I.LIG, ARTC, NaN]</td>\n",
       "      <td>PA:E</td>\n",
       "      <td>[10, NaN]</td>\n",
       "      <td>[3, NaN]</td>\n",
       "      <td>NaN</td>\n",
       "      <td>304,34</td>\n",
       "      <td>GM26</td>\n",
       "      <td>959,976</td>\n",
       "    </tr>\n",
       "    <tr>\n",
       "      <th>11</th>\n",
       "      <td>03811</td>\n",
       "      <td>REGIMIENTO DE INFANTERIA «ZARAGOZA» N.o 5</td>\n",
       "      <td>50083681</td>\n",
       "      <td>5SA51/008</td>\n",
       "      <td>CM</td>\n",
       "      <td>C</td>\n",
       "      <td>BG</td>\n",
       "      <td>[I.LIG, ARTC, NaN]</td>\n",
       "      <td>PA:E</td>\n",
       "      <td>[10, NaN]</td>\n",
       "      <td>[3, NaN]</td>\n",
       "      <td>NaN</td>\n",
       "      <td>304,34</td>\n",
       "      <td>GM26</td>\n",
       "      <td>959,976</td>\n",
       "    </tr>\n",
       "  </tbody>\n",
       "</table>\n",
       "</div>"
      ],
      "text/plain": [
       "    n_vac                                                uco       ciu  \\\n",
       "0   03800  BATALLON DE HELICOPTEROS DE EMERGENCIAS II (BE...  50075516   \n",
       "1   03801                       BATALLON DE CG. DE LAS FAMET  50045588   \n",
       "2   03802  BATALLON DE HELICOPTEROS DE EMERGENCIAS II (BE...  50075516   \n",
       "3   03803            BATALLON DE HELICOPTEROS DE MANIOBRA VI  50030082   \n",
       "4   03804  RGTO. DE INF. «AMERICA» N.o 66 DE CAZADORES DE...  50038946   \n",
       "5   03805     CUARTEL GENERAL DEL MANDO DE TROPAS DE MONTAÑA  50083231   \n",
       "6   03806     CUARTEL GENERAL DEL MANDO DE TROPAS DE MONTAÑA  50083231   \n",
       "7   03807     CUARTEL GENERAL DEL MANDO DE TROPAS DE MONTAÑA  50083231   \n",
       "8   03808                  GRUPO DE ARTILLERIA DE CAMPAÑA VI  50091180   \n",
       "9   03809  REGIMIENTO DE INFANTERIA «NAPOLES» N.o 4 DE PA...  50041489   \n",
       "10  03810  REGIMIENTO DE INFANTERIA «NAPOLES» N.o 4 DE PA...  50041489   \n",
       "11  03811          REGIMIENTO DE INFANTERIA «ZARAGOZA» N.o 5  50083681   \n",
       "\n",
       "           pt clas ta     empleo                efun      cursos      t_max  \\\n",
       "0   5SA3E/003   CM  C  STTE a BG  [I.LIG, ARTC, NaN]  HC:I, HR:I  [10, NaN]   \n",
       "1   5SA3E/002   CM  C  STTE a BG  [I.LIG, ARTC, NaN]        HP:E  [10, NaN]   \n",
       "2   5SA3E/004   CM  C  STTE a BG  [I.LIG, ARTC, NaN]        HP:E  [10, NaN]   \n",
       "3   5SA3E/003   CM  C  STTE a BG  [I.LIG, ARTC, NaN]        HP:E  [10, NaN]   \n",
       "4   5SA19/002   CM  C       STTE  [I.LIG, ARTC, NaN]        TM:E  [10, NaN]   \n",
       "5   5SA28/001   CM  C       STTE  [I.LIG, ARTC, NaN]        TM:E  [10, NaN]   \n",
       "6   5SA51/001   CM  C         BG  [I.LIG, ARTC, NaN]        TM:E  [10, NaN]   \n",
       "7   5SA50/003   CM  C         BG  [I.LIG, ARTC, NaN]        TM:E  [10, NaN]   \n",
       "8   5SA23/002   CM  C       STTE  [I.LIG, ARTC, NaN]        PA:E  [10, NaN]   \n",
       "9   5SA51/004   CM  C         BG  [I.LIG, ARTC, NaN]        PA:E  [10, NaN]   \n",
       "10  5SA51/001   CM  C         BG  [I.LIG, ARTC, NaN]        PA:E  [10, NaN]   \n",
       "11  5SA51/008   CM  C         BG  [I.LIG, ARTC, NaN]        PA:E  [10, NaN]   \n",
       "\n",
       "       t_min fecha_cob    csce cod_cm          obs  \n",
       "0   [3, NaN]       NaN  304,34   GM18  546,656,959  \n",
       "1   [3, NaN]       NaN  374,87   GM18  546,656,959  \n",
       "2   [3, NaN]       NaN  374,87   GM18  546,656,959  \n",
       "3   [3, NaN]       NaN  374,87   GM18  546,656,959  \n",
       "4   [3, NaN]       NaN  374,87   GM18          959  \n",
       "5   [3, NaN]       NaN  374,87   GM18      656,959  \n",
       "6   [3, NaN]       NaN  338,86   GM26      656,959  \n",
       "7   [3, NaN]       NaN  338,86   GM26      656,959  \n",
       "8   [3, NaN]       NaN  374,87   GM18      959,976  \n",
       "9   [3, NaN]       NaN  304,34   GM26      959,976  \n",
       "10  [3, NaN]       NaN  304,34   GM26      959,976  \n",
       "11  [3, NaN]       NaN  304,34   GM26      959,976  "
      ]
     },
     "execution_count": 157,
     "metadata": {},
     "output_type": "execute_result"
    }
   ],
   "source": [
    "data_dict = {'n_vac': n_vac,\n",
    "             'uco': uco,\n",
    "             'ciu': ciu,\n",
    "             'pt': pt,\n",
    "             'clas': clas,\n",
    "             'ta': ta,\n",
    "             'empleo': empleo,\n",
    "             'efun': efun,\n",
    "             'cursos': cursos,\n",
    "             't_max': t_max,\n",
    "             't_min': t_min,\n",
    "             'fecha_cob': fecha_cob,\n",
    "             'csce': csce,\n",
    "             'cod_cm': cod_cm,\n",
    "             'obs': obs\n",
    "            }\n",
    "df = pd.DataFrame(data_dict)\n",
    "df.to_pickle('Scraper-01-CM.pkl')\n",
    "df"
   ]
  },
  {
   "cell_type": "code",
   "execution_count": null,
   "id": "7cc7ffac-af93-41f8-af15-7142415c1920",
   "metadata": {},
   "outputs": [],
   "source": [
    "errors"
   ]
  },
  {
   "cell_type": "code",
   "execution_count": null,
   "id": "5aa37817-0a10-49b7-b768-e916fa3923d5",
   "metadata": {},
   "outputs": [],
   "source": []
  }
 ],
 "metadata": {
  "kernelspec": {
   "display_name": "Python 3 (ipykernel)",
   "language": "python",
   "name": "python3"
  },
  "language_info": {
   "codemirror_mode": {
    "name": "ipython",
    "version": 3
   },
   "file_extension": ".py",
   "mimetype": "text/x-python",
   "name": "python",
   "nbconvert_exporter": "python",
   "pygments_lexer": "ipython3",
   "version": "3.9.7"
  }
 },
 "nbformat": 4,
 "nbformat_minor": 5
}
